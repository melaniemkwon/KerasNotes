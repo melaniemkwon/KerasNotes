{
 "cells": [
  {
   "cell_type": "markdown",
   "metadata": {},
   "source": [
    "<h4 align=\"center\">Hold-out validation</h4> \n",
    "![holdoutvalidation](img/simpleholdoutvalidation.jpeg)\n",
    "\n",
    "Simplest.\n",
    "\n",
    "But if little data is available, then your validation and test sets may contain too few samples to be statistically representative of the data at hand."
   ]
  },
  {
   "cell_type": "code",
   "execution_count": null,
   "metadata": {
    "collapsed": true
   },
   "outputs": [],
   "source": [
    "num_validation_samples = 10000\n",
    "# usually shuffle\n",
    "np.random.shuffle(data)\n",
    "\n",
    "# validation set\n",
    "validation_data = data[:num_validation_samples]\n",
    "\n",
    "# training set\n",
    "data = data[num_validation_samples:]\n",
    "training_data = data[:]\n",
    "\n",
    "# train model on training data; evaluate on validation data\n",
    "model = get_model()\n",
    "model.train(training_data)\n",
    "validation_score = model.evaluate(validation_data)\n",
    "\n",
    "# retrain, evaluate, tune model again...\n",
    "model = get_model()\n",
    "\n",
    "# once you've tuned hyperparameters, train final model from scratch on all non-test data avail\n",
    "model.train(np.concatenate([training_data, validation_data]))\n",
    "\n",
    "# test\n",
    "test_score = model.evaluate(test_data)"
   ]
  },
  {
   "cell_type": "markdown",
   "metadata": {},
   "source": [
    "<h4 align=\"center\">K-fold validation</h4> \n",
    "![kfoldvalidation](img/3foldvalidation.jpeg)\n",
    "\n",
    "Split your data into K partitions of equal size. For each partition i, train a model on the remaining K – 1 partitions, and evaluate it on partition i. Your final score is then the averages of the K scores obtained. This method is helpful when the performance of your model shows significant variance based on your train-test split. Like hold-out validation, this method doesn’t exempt you from using a distinct validation set for model calibration."
   ]
  },
  {
   "cell_type": "code",
   "execution_count": null,
   "metadata": {
    "collapsed": true
   },
   "outputs": [],
   "source": [
    "k = 4\n",
    "num_validation_samples = len(data) // k\n",
    "np.random.shuffle(data)\n",
    "validation_scores = []\n",
    "\n",
    "for fold in range(k):\n",
    "    # validation-data partition\n",
    "    validation_data = data[num_validation_samples*fold : num_validation_samples*(fold+1)]\n",
    "    # rest goes into training data\n",
    "    training_data = data[:num_validation_samples*fold] + data[num_validation_samples*(fold+1):]\n",
    "    \n",
    "    # create new, untrained instance of model\n",
    "    model = get_model()\n",
    "    model.train(training_data)\n",
    "    \n",
    "    validation_score = model.evaluate(validation_data)\n",
    "    validation_scores.append(validation_score)\n",
    "    \n",
    "# average of all validation scores of the k folds\n",
    "validation_score = np.average(validation_scores)\n",
    "\n",
    "# train final model on all non-test data available\n",
    "model = get_model()\n",
    "model.train(data)\n",
    "test_score = model.evaluate(test_data)"
   ]
  }
 ],
 "metadata": {
  "kernelspec": {
   "display_name": "venv",
   "language": "python",
   "name": "venv"
  },
  "language_info": {
   "codemirror_mode": {
    "name": "ipython",
    "version": 3
   },
   "file_extension": ".py",
   "mimetype": "text/x-python",
   "name": "python",
   "nbconvert_exporter": "python",
   "pygments_lexer": "ipython3",
   "version": "3.5.3"
  }
 },
 "nbformat": 4,
 "nbformat_minor": 2
}
